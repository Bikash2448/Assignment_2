{
 "cells": [
  {
   "cell_type": "markdown",
   "id": "786be009-25cd-4e30-ad4d-c9e3e086ba92",
   "metadata": {},
   "source": [
    "Q1. Which keyword is used to create a function? Create a function to return a list of odd numbers in the\n",
    "range of 1 to 25."
   ]
  },
  {
   "cell_type": "code",
   "execution_count": 2,
   "id": "cbb67ac8-0eb9-4f13-8a57-d0f007b9b0e9",
   "metadata": {},
   "outputs": [
    {
     "name": "stdout",
     "output_type": "stream",
     "text": [
      "[1, 2, 3, 4, 5, 6, 7, 8, 9, 10, 11, 12, 13, 14, 15, 16, 17, 18, 19, 20, 21, 22, 23, 24, 25]\n"
     ]
    }
   ],
   "source": [
    "# def keyword is used to create a function\n",
    "l1=[]\n",
    "for i in range(1,26):\n",
    "    l1.append(i)\n",
    "    \n",
    "print(l1)\n",
    "    "
   ]
  },
  {
   "cell_type": "code",
   "execution_count": 3,
   "id": "a0594153-5f76-487b-a717-dd1a1bc4edd2",
   "metadata": {},
   "outputs": [],
   "source": [
    "def odd_num(l):\n",
    "    new_list=[]\n",
    "    if type(l)==list:\n",
    "        for i in l:\n",
    "            if i%2!=0:\n",
    "                new_list.append(i)\n",
    "        return new_list"
   ]
  },
  {
   "cell_type": "code",
   "execution_count": 4,
   "id": "95a91700-293c-4f54-8c10-5bd737000c7d",
   "metadata": {},
   "outputs": [
    {
     "data": {
      "text/plain": [
       "[1, 3, 5, 7, 9, 11, 13, 15, 17, 19, 21, 23, 25]"
      ]
     },
     "execution_count": 4,
     "metadata": {},
     "output_type": "execute_result"
    }
   ],
   "source": [
    "odd_num(l1)"
   ]
  },
  {
   "cell_type": "markdown",
   "id": "fd61a607-0131-4f78-8459-809f2e9cf2b9",
   "metadata": {},
   "source": [
    "Q2. Why *args and **kwargs is used in some functions? Create a function each for *args and **kwargs\n",
    "to demonstrate their use."
   ]
  },
  {
   "cell_type": "code",
   "execution_count": 10,
   "id": "ad3ec358-c9a4-435c-873c-9e342c86e728",
   "metadata": {},
   "outputs": [
    {
     "name": "stdout",
     "output_type": "stream",
     "text": [
      "('Biku', 2, 4.8, ['a', 'b', 'c', 2])\n"
     ]
    }
   ],
   "source": [
    "# => *args use when we pass many arguments in a function this time we use *args as a argument.\n",
    "# ==> **kwargs use when we pass argument as a dictonary this time we use **kwargs as a argument.\n",
    "\n",
    "def print_all_args(*args):\n",
    "    return args\n",
    "a=print_all_args(\"Biku\",2,4.8,[\"a\",\"b\",\"c\",2])\n",
    "print(a)\n",
    "    \n"
   ]
  },
  {
   "cell_type": "code",
   "execution_count": 11,
   "id": "9104b759-8271-4283-8328-b188c5eebe56",
   "metadata": {},
   "outputs": [
    {
     "data": {
      "text/plain": [
       "{'a': 2, 'b': 'Bikash', 'c': True, 'd': 25.45}"
      ]
     },
     "execution_count": 11,
     "metadata": {},
     "output_type": "execute_result"
    }
   ],
   "source": [
    "def print_dic(**kwargs):\n",
    "    return kwargs\n",
    "print_dic(a=2,b=\"Bikash\",c=True,d=25.45)"
   ]
  },
  {
   "cell_type": "code",
   "execution_count": 14,
   "id": "66327fa7-b7a0-41cb-b675-b0dd36032b0f",
   "metadata": {},
   "outputs": [
    {
     "data": {
      "text/plain": [
       "dict"
      ]
     },
     "execution_count": 14,
     "metadata": {},
     "output_type": "execute_result"
    }
   ],
   "source": [
    "type(print_dic())"
   ]
  },
  {
   "cell_type": "markdown",
   "id": "6ad28433-c20d-4d37-83cc-d77308b81ff6",
   "metadata": {},
   "source": [
    "Q3. What is an iterator in python? Name the method used to initialise the iterator object and the method\n",
    "used for iteration. Use these methods to print the first five elements of the given list [2, 4, 6, 8, 10, 12, 14,\n",
    "16, 18, 20]."
   ]
  },
  {
   "cell_type": "code",
   "execution_count": null,
   "id": "03f00d29-7ae9-433f-bb92-29aa39dbd1a8",
   "metadata": {},
   "outputs": [],
   "source": [
    "# iterator is an object that used to iterate the iterable objects(lists, tuples,....).\n",
    "# the method used to initialise the iterator object is -- iter(),\n",
    "# the method used for iteration is -- next()."
   ]
  },
  {
   "cell_type": "code",
   "execution_count": 8,
   "id": "bfebc36c-d771-4a58-a329-97232d693c5b",
   "metadata": {},
   "outputs": [
    {
     "name": "stdout",
     "output_type": "stream",
     "text": [
      "2\n",
      "4\n",
      "6\n",
      "8\n",
      "10\n"
     ]
    }
   ],
   "source": [
    "li = [2, 4, 6, 8, 10, 12, 14, 16, 18, 20]\n",
    "a=iter(li)\n",
    "for i in range(0,5):\n",
    "    print(next(a))\n",
    "    "
   ]
  },
  {
   "cell_type": "code",
   "execution_count": null,
   "id": "0b4d3d61-c022-4e8c-abe3-780a5ccbd386",
   "metadata": {},
   "outputs": [],
   "source": []
  },
  {
   "cell_type": "markdown",
   "id": "db39b127-c942-4d0a-826d-9692a0c3ccdc",
   "metadata": {},
   "source": [
    "Q4. What is a generator function in python? Why yield keyword is used? Give an example of a generator\n",
    "function."
   ]
  },
  {
   "cell_type": "code",
   "execution_count": 31,
   "id": "bc746501-3beb-401b-8209-094b504652ac",
   "metadata": {},
   "outputs": [],
   "source": [
    "# ''' a generator function is a special type of function that returns an iterator called a generator. specially generator function use \n",
    " # for memory managment .we can store generator function in variable.'''"
   ]
  },
  {
   "cell_type": "code",
   "execution_count": 38,
   "id": "fe4bc616-9f35-42d1-bdc2-e1b81f8aa3a7",
   "metadata": {},
   "outputs": [],
   "source": [
    "# yield keyword is used in generator function for return(through) value.\n",
    "def odd_num(i,n):\n",
    "    st=i\n",
    "    while st<=n:\n",
    "        if st%2 != 0:\n",
    "            yield st\n",
    "        st=st+1"
   ]
  },
  {
   "cell_type": "code",
   "execution_count": 39,
   "id": "0a6ea1e3-770c-4056-a020-ffb1e32c6007",
   "metadata": {},
   "outputs": [
    {
     "name": "stdout",
     "output_type": "stream",
     "text": [
      "1\n",
      "3\n",
      "5\n",
      "7\n",
      "9\n"
     ]
    }
   ],
   "source": [
    "a=odd_num(1,10)\n",
    "for i in a:\n",
    "    print(i)\n",
    "# print(next())\n",
    "# type(a)"
   ]
  },
  {
   "cell_type": "code",
   "execution_count": 30,
   "id": "d490a116-da74-407e-88be-4e324ceab7f6",
   "metadata": {},
   "outputs": [],
   "source": []
  },
  {
   "cell_type": "code",
   "execution_count": null,
   "id": "2b3bf303-5ca2-4da5-b4d7-dc1798e86f8a",
   "metadata": {},
   "outputs": [],
   "source": []
  },
  {
   "cell_type": "markdown",
   "id": "6bbcb16f-f02c-4b4b-b8b1-d4580bf77280",
   "metadata": {},
   "source": [
    "Q5. Create a generator function for prime numbers less than 1000. Use the next() method to print the \n",
    "first 20 prime number"
   ]
  },
  {
   "cell_type": "code",
   "execution_count": 17,
   "id": "b4d9f224-7d8f-42dd-ab6f-d40e6e0abb3e",
   "metadata": {},
   "outputs": [
    {
     "name": "stdout",
     "output_type": "stream",
     "text": [
      "2\n",
      "3\n",
      "5\n",
      "7\n",
      "11\n",
      "13\n",
      "17\n",
      "19\n",
      "23\n",
      "29\n",
      "31\n",
      "37\n",
      "41\n",
      "43\n",
      "47\n",
      "53\n",
      "59\n",
      "61\n",
      "67\n",
      "71\n"
     ]
    }
   ],
   "source": [
    "def Prime_num(a, n):\n",
    "    for i in range(a, n):\n",
    "        flag = 0\n",
    "        for j in range(2, i // 2+1):\n",
    "            if i % j == 0:\n",
    "                flag = 1\n",
    "                break\n",
    "        if flag == 0:\n",
    "            yield i\n",
    "\n",
    "b = Prime_num(2, 1000)\n",
    "for i in range(20):\n",
    "    print(next(b))\n"
   ]
  },
  {
   "cell_type": "markdown",
   "id": "91d4c1a9-6e5e-4eb5-a32c-ca2d12a39468",
   "metadata": {},
   "source": [
    "Q6. Write a python program to print the first 10 Fibonacci numbers using a while loop"
   ]
  },
  {
   "cell_type": "code",
   "execution_count": 22,
   "id": "7e75bd17-587d-4966-98ac-69a717107755",
   "metadata": {},
   "outputs": [
    {
     "name": "stdout",
     "output_type": "stream",
     "text": [
      "0\n",
      "1\n",
      "1\n",
      "2\n",
      "3\n",
      "5\n",
      "8\n",
      "13\n",
      "21\n",
      "34\n"
     ]
    }
   ],
   "source": [
    "fibo_num = [0,1]\n",
    "count = 2\n",
    "while count<10 :\n",
    "    fibo_num.append(fibo_num[-1] + fibo_num[-2])\n",
    "    count=count+1\n",
    "    \n",
    "for i in fibo_num:\n",
    "    print(i)"
   ]
  },
  {
   "cell_type": "markdown",
   "id": "4de786a7-dbaf-4f08-ac12-001658b4b294",
   "metadata": {},
   "source": [
    "Q7. Write a List Comprehension to iterate through the given string: ‘pwskills’.\n",
    "\n",
    "Expected output: ['p', 'w', 's', 'k', 'i', 'l', 'l', 's']"
   ]
  },
  {
   "cell_type": "code",
   "execution_count": 5,
   "id": "b5001a3a-bb4d-45b7-8bae-c644d0794dd9",
   "metadata": {},
   "outputs": [
    {
     "name": "stdout",
     "output_type": "stream",
     "text": [
      "p\n",
      "w\n",
      "s\n",
      "k\n",
      "i\n",
      "l\n",
      "l\n"
     ]
    }
   ],
   "source": [
    "# a = \"pwskill\"\n",
    "# s=iter(a)\n",
    "# for i in range (7):\n",
    "#     print(next(s))\n"
   ]
  },
  {
   "cell_type": "code",
   "execution_count": 7,
   "id": "852a1ee6-a77a-420e-9b2d-28695a0bb2d5",
   "metadata": {},
   "outputs": [],
   "source": [
    "b=\"pwskill\"\n",
    "ans = [i for i in b]"
   ]
  },
  {
   "cell_type": "code",
   "execution_count": 8,
   "id": "efef726d-df0c-4e76-8136-e6c69b345f9c",
   "metadata": {},
   "outputs": [
    {
     "name": "stdout",
     "output_type": "stream",
     "text": [
      "['p', 'w', 's', 'k', 'i', 'l', 'l']\n"
     ]
    }
   ],
   "source": [
    "print(ans)"
   ]
  },
  {
   "cell_type": "markdown",
   "id": "84735c1e-adc8-4e2e-b33a-96dbf35bee64",
   "metadata": {},
   "source": [
    "Q8. Write a python program to check whether a given number is Palindrome or not using a while loop."
   ]
  },
  {
   "cell_type": "code",
   "execution_count": 23,
   "id": "5a611502-84d1-4465-96c7-2340d315fe9c",
   "metadata": {},
   "outputs": [
    {
     "name": "stdin",
     "output_type": "stream",
     "text": [
      "Enter the number for check Palindrome or not :  345543\n"
     ]
    },
    {
     "name": "stdout",
     "output_type": "stream",
     "text": [
      "This no is Palindrome \n"
     ]
    }
   ],
   "source": [
    "n = int(input(\"Enter the number for check Palindrome or not : \"))\n",
    "a=str(n)\n",
    "b=a[::-1]\n",
    "if(a==b):\n",
    "    print(\"This no is Palindrome \")\n",
    "else:\n",
    "    print(\"This number is not Palindrome\")"
   ]
  },
  {
   "cell_type": "markdown",
   "id": "08d62eee-e52a-4c1b-b1cb-0eb8dc907008",
   "metadata": {},
   "source": [
    "Q9. Write a code to print odd numbers from 1 to 100 using list comprehension."
   ]
  },
  {
   "cell_type": "code",
   "execution_count": 26,
   "id": "afa144e4-ca70-4ed0-aeee-eab18ca734ab",
   "metadata": {},
   "outputs": [],
   "source": [
    "a = [i for i in range(1,101)]"
   ]
  },
  {
   "cell_type": "code",
   "execution_count": 25,
   "id": "ad04057f-a9ca-4da0-86f4-2eb7d4b1cc8d",
   "metadata": {},
   "outputs": [
    {
     "data": {
      "text/plain": [
       "[1,\n",
       " 2,\n",
       " 3,\n",
       " 4,\n",
       " 5,\n",
       " 6,\n",
       " 7,\n",
       " 8,\n",
       " 9,\n",
       " 10,\n",
       " 11,\n",
       " 12,\n",
       " 13,\n",
       " 14,\n",
       " 15,\n",
       " 16,\n",
       " 17,\n",
       " 18,\n",
       " 19,\n",
       " 20,\n",
       " 21,\n",
       " 22,\n",
       " 23,\n",
       " 24,\n",
       " 25,\n",
       " 26,\n",
       " 27,\n",
       " 28,\n",
       " 29,\n",
       " 30,\n",
       " 31,\n",
       " 32,\n",
       " 33,\n",
       " 34,\n",
       " 35,\n",
       " 36,\n",
       " 37,\n",
       " 38,\n",
       " 39,\n",
       " 40,\n",
       " 41,\n",
       " 42,\n",
       " 43,\n",
       " 44,\n",
       " 45,\n",
       " 46,\n",
       " 47,\n",
       " 48,\n",
       " 49,\n",
       " 50,\n",
       " 51,\n",
       " 52,\n",
       " 53,\n",
       " 54,\n",
       " 55,\n",
       " 56,\n",
       " 57,\n",
       " 58,\n",
       " 59,\n",
       " 60,\n",
       " 61,\n",
       " 62,\n",
       " 63,\n",
       " 64,\n",
       " 65,\n",
       " 66,\n",
       " 67,\n",
       " 68,\n",
       " 69,\n",
       " 70,\n",
       " 71,\n",
       " 72,\n",
       " 73,\n",
       " 74,\n",
       " 75,\n",
       " 76,\n",
       " 77,\n",
       " 78,\n",
       " 79,\n",
       " 80,\n",
       " 81,\n",
       " 82,\n",
       " 83,\n",
       " 84,\n",
       " 85,\n",
       " 86,\n",
       " 87,\n",
       " 88,\n",
       " 89,\n",
       " 90,\n",
       " 91,\n",
       " 92,\n",
       " 93,\n",
       " 94,\n",
       " 95,\n",
       " 96,\n",
       " 97,\n",
       " 98,\n",
       " 99]"
      ]
     },
     "execution_count": 25,
     "metadata": {},
     "output_type": "execute_result"
    }
   ],
   "source": [
    "[j for j in a if j%2 != 0]"
   ]
  },
  {
   "cell_type": "code",
   "execution_count": null,
   "id": "e88cbf69-f175-4e8c-bb79-a07198b6e3ae",
   "metadata": {},
   "outputs": [],
   "source": []
  }
 ],
 "metadata": {
  "kernelspec": {
   "display_name": "Python 3 (ipykernel)",
   "language": "python",
   "name": "python3"
  },
  "language_info": {
   "codemirror_mode": {
    "name": "ipython",
    "version": 3
   },
   "file_extension": ".py",
   "mimetype": "text/x-python",
   "name": "python",
   "nbconvert_exporter": "python",
   "pygments_lexer": "ipython3",
   "version": "3.10.8"
  }
 },
 "nbformat": 4,
 "nbformat_minor": 5
}
